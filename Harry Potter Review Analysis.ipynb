{
 "cells": [
  {
   "cell_type": "code",
   "execution_count": 115,
   "metadata": {},
   "outputs": [],
   "source": [
    "import numpy\n",
    "import pandas as pd\n",
    "import seaborn as sns\n",
    "import matplotlib.pyplot as plt\n",
    "import contractions\n",
    "import re\n",
    "import fasttext\n",
    "import gensim\n",
    "import nltk\n",
    "from nltk.corpus import wordnet\n",
    "from nltk.stem import WordNetLemmatizer\n",
    "from sklearn.feature_extraction.text import TfidfVectorizer\n",
    "from sklearn.cluster import KMeans"
   ]
  },
  {
   "cell_type": "code",
   "execution_count": 2,
   "metadata": {},
   "outputs": [],
   "source": [
    "harry_df=pd.read_csv(r'C:\\Users\\gtanwar2\\Downloads\\lightning.csv\\lightning.csv')"
   ]
  },
  {
   "cell_type": "code",
   "execution_count": 3,
   "metadata": {},
   "outputs": [
    {
     "name": "stdout",
     "output_type": "stream",
     "text": [
      "<class 'pandas.core.frame.DataFrame'>\n",
      "RangeIndex: 720 entries, 0 to 719\n",
      "Data columns (total 8 columns):\n",
      " #   Column       Non-Null Count  Dtype  \n",
      "---  ------       --------------  -----  \n",
      " 0   Unnamed: 0   720 non-null    int64  \n",
      " 1   book         720 non-null    object \n",
      " 2   name         720 non-null    object \n",
      " 3   date         720 non-null    object \n",
      " 4   rating       690 non-null    object \n",
      " 5   likes        720 non-null    object \n",
      " 6   description  719 non-null    object \n",
      " 7   stars_given  690 non-null    float64\n",
      "dtypes: float64(1), int64(1), object(6)\n",
      "memory usage: 45.1+ KB\n"
     ]
    }
   ],
   "source": [
    "harry_df.info()"
   ]
  },
  {
   "cell_type": "code",
   "execution_count": 4,
   "metadata": {},
   "outputs": [
    {
     "data": {
      "text/html": [
       "<div>\n",
       "<style scoped>\n",
       "    .dataframe tbody tr th:only-of-type {\n",
       "        vertical-align: middle;\n",
       "    }\n",
       "\n",
       "    .dataframe tbody tr th {\n",
       "        vertical-align: top;\n",
       "    }\n",
       "\n",
       "    .dataframe thead th {\n",
       "        text-align: right;\n",
       "    }\n",
       "</style>\n",
       "<table border=\"1\" class=\"dataframe\">\n",
       "  <thead>\n",
       "    <tr style=\"text-align: right;\">\n",
       "      <th></th>\n",
       "      <th>Unnamed: 0</th>\n",
       "      <th>book</th>\n",
       "      <th>name</th>\n",
       "      <th>date</th>\n",
       "      <th>rating</th>\n",
       "      <th>likes</th>\n",
       "      <th>description</th>\n",
       "      <th>stars_given</th>\n",
       "    </tr>\n",
       "  </thead>\n",
       "  <tbody>\n",
       "    <tr>\n",
       "      <th>0</th>\n",
       "      <td>0</td>\n",
       "      <td>Harry Potter and the Sorcerer's Stone</td>\n",
       "      <td>MirandaReads</td>\n",
       "      <td>Nov11,2019</td>\n",
       "      <td>itwasamazing</td>\n",
       "      <td>1657 likes</td>\n",
       "      <td>Stuck at home? Got some time on your hands? Wa...</td>\n",
       "      <td>5.0</td>\n",
       "    </tr>\n",
       "    <tr>\n",
       "      <th>1</th>\n",
       "      <td>1</td>\n",
       "      <td>Harry Potter and the Sorcerer's Stone</td>\n",
       "      <td>Kai</td>\n",
       "      <td>Apr02,2015</td>\n",
       "      <td>NaN</td>\n",
       "      <td>993 likes</td>\n",
       "      <td>Let's do this thing where we promote and recom...</td>\n",
       "      <td>NaN</td>\n",
       "    </tr>\n",
       "    <tr>\n",
       "      <th>2</th>\n",
       "      <td>2</td>\n",
       "      <td>Harry Potter and the Sorcerer's Stone</td>\n",
       "      <td>Lora</td>\n",
       "      <td>Jun03,2011</td>\n",
       "      <td>itwasamazing</td>\n",
       "      <td>1599 likes</td>\n",
       "      <td>I'm going to keep this brief since there isn't...</td>\n",
       "      <td>5.0</td>\n",
       "    </tr>\n",
       "    <tr>\n",
       "      <th>3</th>\n",
       "      <td>3</td>\n",
       "      <td>Harry Potter and the Sorcerer's Stone</td>\n",
       "      <td>★Jess</td>\n",
       "      <td>Dec10,2009</td>\n",
       "      <td>itwasamazing</td>\n",
       "      <td>831 likes</td>\n",
       "      <td>My original review was a comparison of sorts b...</td>\n",
       "      <td>5.0</td>\n",
       "    </tr>\n",
       "    <tr>\n",
       "      <th>4</th>\n",
       "      <td>4</td>\n",
       "      <td>Harry Potter and the Sorcerer's Stone</td>\n",
       "      <td>Matthew</td>\n",
       "      <td>Jan08,2013</td>\n",
       "      <td>itwasamazing</td>\n",
       "      <td>911 likes</td>\n",
       "      <td>One of my first jobs was at a bookstore. When ...</td>\n",
       "      <td>5.0</td>\n",
       "    </tr>\n",
       "  </tbody>\n",
       "</table>\n",
       "</div>"
      ],
      "text/plain": [
       "   Unnamed: 0                                   book          name  \\\n",
       "0           0  Harry Potter and the Sorcerer's Stone  MirandaReads   \n",
       "1           1  Harry Potter and the Sorcerer's Stone           Kai   \n",
       "2           2  Harry Potter and the Sorcerer's Stone          Lora   \n",
       "3           3  Harry Potter and the Sorcerer's Stone         ★Jess   \n",
       "4           4  Harry Potter and the Sorcerer's Stone       Matthew   \n",
       "\n",
       "         date        rating       likes  \\\n",
       "0  Nov11,2019  itwasamazing  1657 likes   \n",
       "1  Apr02,2015           NaN   993 likes   \n",
       "2  Jun03,2011  itwasamazing  1599 likes   \n",
       "3  Dec10,2009  itwasamazing   831 likes   \n",
       "4  Jan08,2013  itwasamazing   911 likes   \n",
       "\n",
       "                                         description  stars_given  \n",
       "0  Stuck at home? Got some time on your hands? Wa...          5.0  \n",
       "1  Let's do this thing where we promote and recom...          NaN  \n",
       "2  I'm going to keep this brief since there isn't...          5.0  \n",
       "3  My original review was a comparison of sorts b...          5.0  \n",
       "4  One of my first jobs was at a bookstore. When ...          5.0  "
      ]
     },
     "execution_count": 4,
     "metadata": {},
     "output_type": "execute_result"
    }
   ],
   "source": [
    "harry_df.head()"
   ]
  },
  {
   "cell_type": "code",
   "execution_count": 5,
   "metadata": {},
   "outputs": [
    {
     "data": {
      "text/plain": [
       "Index(['Unnamed: 0', 'book', 'name', 'date', 'rating', 'likes', 'description',\n",
       "       'stars_given'],\n",
       "      dtype='object')"
      ]
     },
     "execution_count": 5,
     "metadata": {},
     "output_type": "execute_result"
    }
   ],
   "source": [
    "harry_df.columns"
   ]
  },
  {
   "cell_type": "code",
   "execution_count": 6,
   "metadata": {},
   "outputs": [],
   "source": [
    "harry_df.drop(columns=['Unnamed: 0','name'],inplace=True)"
   ]
  },
  {
   "cell_type": "code",
   "execution_count": 7,
   "metadata": {},
   "outputs": [
    {
     "data": {
      "text/plain": [
       "8"
      ]
     },
     "execution_count": 7,
     "metadata": {},
     "output_type": "execute_result"
    }
   ],
   "source": [
    "harry_df['book'].nunique()"
   ]
  },
  {
   "cell_type": "code",
   "execution_count": 9,
   "metadata": {},
   "outputs": [
    {
     "data": {
      "text/plain": [
       "array([\"Harry Potter and the Sorcerer's Stone\",\n",
       "       'Harry Potter and the Deathly Hallows',\n",
       "       'Harry Potter and the Prisoner of Azkaban',\n",
       "       'Harry Potter and the Order of the Phoenix',\n",
       "       'Harry Potter and the Chamber of Secrets',\n",
       "       'Harry Potter and the Cursed Child: Parts One and Two',\n",
       "       'Harry Potter and the Goblet of Fire',\n",
       "       'Harry Potter and the Half-Blood Prince'], dtype=object)"
      ]
     },
     "execution_count": 9,
     "metadata": {},
     "output_type": "execute_result"
    }
   ],
   "source": [
    "harry_df['book'].unique()"
   ]
  },
  {
   "cell_type": "code",
   "execution_count": 10,
   "metadata": {},
   "outputs": [],
   "source": [
    "harry_df['date']=harry_df['date'].apply(lambda x: x.split(',')[1])"
   ]
  },
  {
   "cell_type": "code",
   "execution_count": 11,
   "metadata": {},
   "outputs": [
    {
     "name": "stderr",
     "output_type": "stream",
     "text": [
      "C:\\Users\\gtanwar2\\Anaconda3\\lib\\site-packages\\seaborn\\_decorators.py:36: FutureWarning: Pass the following variable as a keyword arg: x. From version 0.12, the only valid positional argument will be `data`, and passing other arguments without an explicit keyword will result in an error or misinterpretation.\n",
      "  warnings.warn(\n"
     ]
    },
    {
     "data": {
      "image/png": "[encoded data removed]",
      "text/plain": [
       "<Figure size 1440x576 with 1 Axes>"
      ]
     },
     "metadata": {
      "needs_background": "light"
     },
     "output_type": "display_data"
    }
   ],
   "source": [
    "figure=plt.figure(figsize=(20,8))\n",
    "x=sns.countplot(sorted(harry_df.date))"
   ]
  },
  {
   "cell_type": "code",
   "execution_count": 12,
   "metadata": {},
   "outputs": [
    {
     "name": "stdout",
     "output_type": "stream",
     "text": [
      "['itwasamazing' nan 'reallylikedit' 'didnotlikeit' 'likedit' 'itwasok']\n"
     ]
    }
   ],
   "source": [
    "ratings=harry_df['rating'].unique()\n",
    "print(ratings)"
   ]
  },
  {
   "cell_type": "code",
   "execution_count": 13,
   "metadata": {},
   "outputs": [
    {
     "data": {
      "text/plain": [
       "array([ 5., nan,  4.,  1.,  3.,  2.])"
      ]
     },
     "execution_count": 13,
     "metadata": {},
     "output_type": "execute_result"
    }
   ],
   "source": [
    "harry_df['stars_given'].unique()"
   ]
  },
  {
   "cell_type": "code",
   "execution_count": 14,
   "metadata": {},
   "outputs": [
    {
     "name": "stdout",
     "output_type": "stream",
     "text": [
      "itwasamazing: [5.]\n",
      "nan: []\n",
      "reallylikedit: [4.]\n",
      "didnotlikeit: [1.]\n",
      "likedit: [3.]\n",
      "itwasok: [2.]\n"
     ]
    }
   ],
   "source": [
    "for rating in ratings:\n",
    "    print(str(rating)+\": \"+str(harry_df[harry_df['rating']==rating]['stars_given'].unique()))"
   ]
  },
  {
   "cell_type": "code",
   "execution_count": 15,
   "metadata": {},
   "outputs": [],
   "source": [
    "harry_df.dropna(axis=0,subset=['description'],inplace=True)"
   ]
  },
  {
   "cell_type": "code",
   "execution_count": 16,
   "metadata": {},
   "outputs": [
    {
     "name": "stdout",
     "output_type": "stream",
     "text": [
      "<class 'pandas.core.frame.DataFrame'>\n",
      "Int64Index: 719 entries, 0 to 719\n",
      "Data columns (total 6 columns):\n",
      " #   Column       Non-Null Count  Dtype  \n",
      "---  ------       --------------  -----  \n",
      " 0   book         719 non-null    object \n",
      " 1   date         719 non-null    object \n",
      " 2   rating       689 non-null    object \n",
      " 3   likes        719 non-null    object \n",
      " 4   description  719 non-null    object \n",
      " 5   stars_given  689 non-null    float64\n",
      "dtypes: float64(1), object(5)\n",
      "memory usage: 39.3+ KB\n"
     ]
    }
   ],
   "source": [
    "harry_df.info()"
   ]
  },
  {
   "cell_type": "code",
   "execution_count": 17,
   "metadata": {},
   "outputs": [],
   "source": [
    "books=harry_df.book.unique()"
   ]
  },
  {
   "cell_type": "code",
   "execution_count": 18,
   "metadata": {},
   "outputs": [
    {
     "data": {
      "image/png": "[encoded data removed]",
      "text/plain": [
       "<Figure size 576x576 with 1 Axes>"
      ]
     },
     "metadata": {
      "needs_background": "light"
     },
     "output_type": "display_data"
    },
    {
     "data": {
      "image/png": "[encoded data removed]",
      "text/plain": [
       "<Figure size 576x576 with 1 Axes>"
      ]
     },
     "metadata": {
      "needs_background": "light"
     },
     "output_type": "display_data"
    },
    {
     "data": {
      "image/png": "[encoded data removed]",
      "text/plain": [
       "<Figure size 576x576 with 1 Axes>"
      ]
     },
     "metadata": {
      "needs_background": "light"
     },
     "output_type": "display_data"
    },
    {
     "data": {
      "image/png": "[encoded data removed]",
      "text/plain": [
       "<Figure size 576x576 with 1 Axes>"
      ]
     },
     "metadata": {
      "needs_background": "light"
     },
     "output_type": "display_data"
    },
    {
     "data": {
      "image/png": "[encoded data removed]",
      "text/plain": [
       "<Figure size 576x576 with 1 Axes>"
      ]
     },
     "metadata": {
      "needs_background": "light"
     },
     "output_type": "display_data"
    },
    {
     "data": {
      "image/png": "[encoded data removed]",
      "text/plain": [
       "<Figure size 576x576 with 1 Axes>"
      ]
     },
     "metadata": {
      "needs_background": "light"
     },
     "output_type": "display_data"
    },
    {
     "data": {
      "image/png": "[encoded data removed]",
      "text/plain": [
       "<Figure size 576x576 with 1 Axes>"
      ]
     },
     "metadata": {
      "needs_background": "light"
     },
     "output_type": "display_data"
    },
    {
     "data": {
      "image/png": "[encoded data removed]",
      "text/plain": [
       "<Figure size 576x576 with 1 Axes>"
      ]
     },
     "metadata": {
      "needs_background": "light"
     },
     "output_type": "display_data"
    }
   ],
   "source": [
    "import warnings\n",
    "warnings.filterwarnings(\"ignore\")\n",
    "for book in books:\n",
    "#     print(book)\n",
    "    figure=plt.figure(figsize=(8,8))\n",
    "    sns.countplot(harry_df[harry_df.book==book]['stars_given'])\n",
    "    plt.title(book)"
   ]
  },
  {
   "cell_type": "code",
   "execution_count": 19,
   "metadata": {},
   "outputs": [
    {
     "data": {
      "text/plain": [
       "book\n",
       "Harry Potter and the Chamber of Secrets                 88\n",
       "Harry Potter and the Cursed Child: Parts One and Two    82\n",
       "Harry Potter and the Deathly Hallows                    87\n",
       "Harry Potter and the Goblet of Fire                     88\n",
       "Harry Potter and the Half-Blood Prince                  86\n",
       "Harry Potter and the Order of the Phoenix               85\n",
       "Harry Potter and the Prisoner of Azkaban                87\n",
       "Harry Potter and the Sorcerer's Stone                   86\n",
       "Name: stars_given, dtype: int64"
      ]
     },
     "execution_count": 19,
     "metadata": {},
     "output_type": "execute_result"
    }
   ],
   "source": [
    "harry_df.groupby(['book']).count()['stars_given']"
   ]
  },
  {
   "cell_type": "code",
   "execution_count": 20,
   "metadata": {},
   "outputs": [
    {
     "data": {
      "text/html": [
       "<div>\n",
       "<style scoped>\n",
       "    .dataframe tbody tr th:only-of-type {\n",
       "        vertical-align: middle;\n",
       "    }\n",
       "\n",
       "    .dataframe tbody tr th {\n",
       "        vertical-align: top;\n",
       "    }\n",
       "\n",
       "    .dataframe thead th {\n",
       "        text-align: right;\n",
       "    }\n",
       "</style>\n",
       "<table border=\"1\" class=\"dataframe\">\n",
       "  <thead>\n",
       "    <tr style=\"text-align: right;\">\n",
       "      <th></th>\n",
       "      <th>stars_given</th>\n",
       "    </tr>\n",
       "    <tr>\n",
       "      <th>book</th>\n",
       "      <th></th>\n",
       "    </tr>\n",
       "  </thead>\n",
       "  <tbody>\n",
       "    <tr>\n",
       "      <th>Harry Potter and the Goblet of Fire</th>\n",
       "      <td>4.784091</td>\n",
       "    </tr>\n",
       "    <tr>\n",
       "      <th>Harry Potter and the Half-Blood Prince</th>\n",
       "      <td>4.686047</td>\n",
       "    </tr>\n",
       "    <tr>\n",
       "      <th>Harry Potter and the Deathly Hallows</th>\n",
       "      <td>4.678161</td>\n",
       "    </tr>\n",
       "    <tr>\n",
       "      <th>Harry Potter and the Prisoner of Azkaban</th>\n",
       "      <td>4.678161</td>\n",
       "    </tr>\n",
       "    <tr>\n",
       "      <th>Harry Potter and the Order of the Phoenix</th>\n",
       "      <td>4.552941</td>\n",
       "    </tr>\n",
       "    <tr>\n",
       "      <th>Harry Potter and the Chamber of Secrets</th>\n",
       "      <td>4.522727</td>\n",
       "    </tr>\n",
       "    <tr>\n",
       "      <th>Harry Potter and the Sorcerer's Stone</th>\n",
       "      <td>4.290698</td>\n",
       "    </tr>\n",
       "    <tr>\n",
       "      <th>Harry Potter and the Cursed Child: Parts One and Two</th>\n",
       "      <td>2.926829</td>\n",
       "    </tr>\n",
       "  </tbody>\n",
       "</table>\n",
       "</div>"
      ],
      "text/plain": [
       "                                                    stars_given\n",
       "book                                                           \n",
       "Harry Potter and the Goblet of Fire                    4.784091\n",
       "Harry Potter and the Half-Blood Prince                 4.686047\n",
       "Harry Potter and the Deathly Hallows                   4.678161\n",
       "Harry Potter and the Prisoner of Azkaban               4.678161\n",
       "Harry Potter and the Order of the Phoenix              4.552941\n",
       "Harry Potter and the Chamber of Secrets                4.522727\n",
       "Harry Potter and the Sorcerer's Stone                  4.290698\n",
       "Harry Potter and the Cursed Child: Parts One an...     2.926829"
      ]
     },
     "execution_count": 20,
     "metadata": {},
     "output_type": "execute_result"
    }
   ],
   "source": [
    "harry_df.groupby(['book']).mean().sort_values('stars_given',ascending=False)"
   ]
  },
  {
   "cell_type": "code",
   "execution_count": 21,
   "metadata": {},
   "outputs": [],
   "source": [
    "harry_df.likes=harry_df.likes.apply(lambda x:int(x.split()[0]))"
   ]
  },
  {
   "cell_type": "code",
   "execution_count": 22,
   "metadata": {},
   "outputs": [],
   "source": [
    "harry_df['calc_stars']=harry_df.likes*harry_df.stars_given"
   ]
  },
  {
   "cell_type": "code",
   "execution_count": 23,
   "metadata": {},
   "outputs": [],
   "source": [
    "generated_ratings_df=harry_df.groupby(['book']).sum()"
   ]
  },
  {
   "cell_type": "code",
   "execution_count": 24,
   "metadata": {},
   "outputs": [],
   "source": [
    "generated_ratings_df['normalised_ratings']=generated_ratings_df.calc_stars/generated_ratings_df.likes"
   ]
  },
  {
   "cell_type": "code",
   "execution_count": 25,
   "metadata": {},
   "outputs": [
    {
     "data": {
      "text/html": [
       "<div>\n",
       "<style scoped>\n",
       "    .dataframe tbody tr th:only-of-type {\n",
       "        vertical-align: middle;\n",
       "    }\n",
       "\n",
       "    .dataframe tbody tr th {\n",
       "        vertical-align: top;\n",
       "    }\n",
       "\n",
       "    .dataframe thead th {\n",
       "        text-align: right;\n",
       "    }\n",
       "</style>\n",
       "<table border=\"1\" class=\"dataframe\">\n",
       "  <thead>\n",
       "    <tr style=\"text-align: right;\">\n",
       "      <th></th>\n",
       "      <th>likes</th>\n",
       "      <th>stars_given</th>\n",
       "      <th>calc_stars</th>\n",
       "      <th>normalised_ratings</th>\n",
       "    </tr>\n",
       "    <tr>\n",
       "      <th>book</th>\n",
       "      <th></th>\n",
       "      <th></th>\n",
       "      <th></th>\n",
       "      <th></th>\n",
       "    </tr>\n",
       "  </thead>\n",
       "  <tbody>\n",
       "    <tr>\n",
       "      <th>Harry Potter and the Goblet of Fire</th>\n",
       "      <td>17254</td>\n",
       "      <td>421.0</td>\n",
       "      <td>79740.0</td>\n",
       "      <td>4.621537</td>\n",
       "    </tr>\n",
       "    <tr>\n",
       "      <th>Harry Potter and the Half-Blood Prince</th>\n",
       "      <td>12760</td>\n",
       "      <td>403.0</td>\n",
       "      <td>56973.0</td>\n",
       "      <td>4.464969</td>\n",
       "    </tr>\n",
       "    <tr>\n",
       "      <th>Harry Potter and the Chamber of Secrets</th>\n",
       "      <td>16661</td>\n",
       "      <td>398.0</td>\n",
       "      <td>74206.0</td>\n",
       "      <td>4.453874</td>\n",
       "    </tr>\n",
       "    <tr>\n",
       "      <th>Harry Potter and the Deathly Hallows</th>\n",
       "      <td>16256</td>\n",
       "      <td>407.0</td>\n",
       "      <td>71807.0</td>\n",
       "      <td>4.417261</td>\n",
       "    </tr>\n",
       "    <tr>\n",
       "      <th>Harry Potter and the Prisoner of Azkaban</th>\n",
       "      <td>21144</td>\n",
       "      <td>407.0</td>\n",
       "      <td>92638.0</td>\n",
       "      <td>4.381290</td>\n",
       "    </tr>\n",
       "    <tr>\n",
       "      <th>Harry Potter and the Order of the Phoenix</th>\n",
       "      <td>20655</td>\n",
       "      <td>387.0</td>\n",
       "      <td>86260.0</td>\n",
       "      <td>4.176229</td>\n",
       "    </tr>\n",
       "    <tr>\n",
       "      <th>Harry Potter and the Sorcerer's Stone</th>\n",
       "      <td>37839</td>\n",
       "      <td>369.0</td>\n",
       "      <td>136388.0</td>\n",
       "      <td>3.604429</td>\n",
       "    </tr>\n",
       "    <tr>\n",
       "      <th>Harry Potter and the Cursed Child: Parts One and Two</th>\n",
       "      <td>29942</td>\n",
       "      <td>240.0</td>\n",
       "      <td>74311.0</td>\n",
       "      <td>2.481832</td>\n",
       "    </tr>\n",
       "  </tbody>\n",
       "</table>\n",
       "</div>"
      ],
      "text/plain": [
       "                                                    likes  stars_given  \\\n",
       "book                                                                     \n",
       "Harry Potter and the Goblet of Fire                 17254        421.0   \n",
       "Harry Potter and the Half-Blood Prince              12760        403.0   \n",
       "Harry Potter and the Chamber of Secrets             16661        398.0   \n",
       "Harry Potter and the Deathly Hallows                16256        407.0   \n",
       "Harry Potter and the Prisoner of Azkaban            21144        407.0   \n",
       "Harry Potter and the Order of the Phoenix           20655        387.0   \n",
       "Harry Potter and the Sorcerer's Stone               37839        369.0   \n",
       "Harry Potter and the Cursed Child: Parts One an...  29942        240.0   \n",
       "\n",
       "                                                    calc_stars  \\\n",
       "book                                                             \n",
       "Harry Potter and the Goblet of Fire                    79740.0   \n",
       "Harry Potter and the Half-Blood Prince                 56973.0   \n",
       "Harry Potter and the Chamber of Secrets                74206.0   \n",
       "Harry Potter and the Deathly Hallows                   71807.0   \n",
       "Harry Potter and the Prisoner of Azkaban               92638.0   \n",
       "Harry Potter and the Order of the Phoenix              86260.0   \n",
       "Harry Potter and the Sorcerer's Stone                 136388.0   \n",
       "Harry Potter and the Cursed Child: Parts One an...     74311.0   \n",
       "\n",
       "                                                    normalised_ratings  \n",
       "book                                                                    \n",
       "Harry Potter and the Goblet of Fire                           4.621537  \n",
       "Harry Potter and the Half-Blood Prince                        4.464969  \n",
       "Harry Potter and the Chamber of Secrets                       4.453874  \n",
       "Harry Potter and the Deathly Hallows                          4.417261  \n",
       "Harry Potter and the Prisoner of Azkaban                      4.381290  \n",
       "Harry Potter and the Order of the Phoenix                     4.176229  \n",
       "Harry Potter and the Sorcerer's Stone                         3.604429  \n",
       "Harry Potter and the Cursed Child: Parts One an...            2.481832  "
      ]
     },
     "execution_count": 25,
     "metadata": {},
     "output_type": "execute_result"
    }
   ],
   "source": [
    "generated_ratings_df.sort_values('normalised_ratings',ascending=False)"
   ]
  },
  {
   "cell_type": "markdown",
   "metadata": {},
   "source": [
    "## Text Analytics"
   ]
  },
  {
   "cell_type": "code",
   "execution_count": 26,
   "metadata": {},
   "outputs": [
    {
     "data": {
      "text/plain": [
       "55"
      ]
     },
     "execution_count": 26,
     "metadata": {},
     "output_type": "execute_result"
    }
   ],
   "source": [
    "sum(harry_df.description.apply(lambda x:x.find('http'))>0)"
   ]
  },
  {
   "cell_type": "code",
   "execution_count": 27,
   "metadata": {},
   "outputs": [],
   "source": [
    "def remove_link(text):\n",
    "    return re.sub(r'https?:\\/\\/\\S*', '', text, flags=re.MULTILINE)\n"
   ]
  },
  {
   "cell_type": "code",
   "execution_count": 32,
   "metadata": {},
   "outputs": [],
   "source": [
    "harry_df.description=harry_df.description.apply(lambda x:remove_link(x))"
   ]
  },
  {
   "cell_type": "code",
   "execution_count": 33,
   "metadata": {},
   "outputs": [
    {
     "data": {
      "text/plain": [
       "0      Stuck at home? Got some time on your hands? Wa...\n",
       "1      Let's do this thing where we promote and recom...\n",
       "2      I'm going to keep this brief since there isn't...\n",
       "3      My original review was a comparison of sorts b...\n",
       "4      One of my first jobs was at a bookstore. When ...\n",
       "                             ...                        \n",
       "715    Buddy Re-Read continues!I read this last almos...\n",
       "716    This is when Rowling really focused on the fin...\n",
       "717    I still love this series after many rereads!Ha...\n",
       "718    Oh man even 14 years later this ending SUCKS!I...\n",
       "719    Trigger warnings: Child abuse, bullying, slave...\n",
       "Name: description, Length: 719, dtype: object"
      ]
     },
     "execution_count": 33,
     "metadata": {},
     "output_type": "execute_result"
    }
   ],
   "source": [
    "harry_df.description"
   ]
  },
  {
   "cell_type": "code",
   "execution_count": 34,
   "metadata": {},
   "outputs": [],
   "source": [
    "def expand_contractions(text):\n",
    "    expanded_words = []    \n",
    "    for word in text.split():\n",
    "        expanded_words.append(contractions.fix(word))   \n",
    "    return ' '.join(expanded_words)"
   ]
  },
  {
   "cell_type": "code",
   "execution_count": 35,
   "metadata": {},
   "outputs": [],
   "source": [
    "harry_df.description=harry_df.description.apply(lambda x:expand_contractions(x))    "
   ]
  },
  {
   "cell_type": "code",
   "execution_count": 36,
   "metadata": {},
   "outputs": [],
   "source": [
    "def get_only_alpha(text):\n",
    "    alpha_text=\"\"\n",
    "    for char in text:\n",
    "        if char.isalpha() or char==\" \":\n",
    "            alpha_text+=char\n",
    "        if char==\".\":\n",
    "            alpha_text+=\" \"\n",
    "    return alpha_text"
   ]
  },
  {
   "cell_type": "code",
   "execution_count": 42,
   "metadata": {},
   "outputs": [],
   "source": [
    "def clean_text(text):\n",
    "    text = re.sub(r'<br />', ' ', text)\n",
    "    text = re.sub(r'\\ufeff', ' ', text)\n",
    "    text = re.sub(r'\\'', ' ', text)\n",
    "    text = re.sub(r'\\n', \" \",text)\n",
    "    text = get_only_alpha(text)\n",
    "    text = re.sub(r'[ÂàâéèÃïØº]','',text)\n",
    "    return text"
   ]
  },
  {
   "cell_type": "code",
   "execution_count": 43,
   "metadata": {},
   "outputs": [],
   "source": [
    "harry_df.description=harry_df.description.apply(lambda x:clean_text(x))"
   ]
  },
  {
   "cell_type": "code",
   "execution_count": 44,
   "metadata": {},
   "outputs": [],
   "source": [
    "FASTEXT_MODEL_PATH = r'C:\\Users\\gtanwar2\\Downloads\\lid.176.bin'\n",
    "def detect_lang(content):\n",
    "    model = fasttext.load_model(FASTEXT_MODEL_PATH)\n",
    "    langs = []\n",
    "    for sent in content:\n",
    "        sent = sent.replace(\"\\n\",\" \")\n",
    "        lang = model.predict(sent)[0]\n",
    "        langs.append(str(lang)[11:13])\n",
    "    return langs"
   ]
  },
  {
   "cell_type": "code",
   "execution_count": 45,
   "metadata": {},
   "outputs": [
    {
     "name": "stderr",
     "output_type": "stream",
     "text": [
      "Warning : `load_model` does not return WordVectorModel or SupervisedModel any more, but a `FastText` object which is very similar.\n"
     ]
    }
   ],
   "source": [
    "harry_df['langs'] = detect_lang(harry_df['description'])"
   ]
  },
  {
   "cell_type": "code",
   "execution_count": 46,
   "metadata": {},
   "outputs": [
    {
     "data": {
      "text/plain": [
       "7"
      ]
     },
     "execution_count": 46,
     "metadata": {},
     "output_type": "execute_result"
    }
   ],
   "source": [
    "harry_df['langs'].nunique()"
   ]
  },
  {
   "cell_type": "code",
   "execution_count": 47,
   "metadata": {},
   "outputs": [
    {
     "data": {
      "text/plain": [
       "array(['en', 'it', 'fa', 'fi', 'es', 'zh', 'ja'], dtype=object)"
      ]
     },
     "execution_count": 47,
     "metadata": {},
     "output_type": "execute_result"
    }
   ],
   "source": [
    "harry_df.langs.unique()"
   ]
  },
  {
   "cell_type": "code",
   "execution_count": 48,
   "metadata": {},
   "outputs": [
    {
     "data": {
      "text/plain": [
       "en    700\n",
       "fa      9\n",
       "it      5\n",
       "ja      2\n",
       "es      1\n",
       "fi      1\n",
       "zh      1\n",
       "Name: langs, dtype: int64"
      ]
     },
     "execution_count": 48,
     "metadata": {},
     "output_type": "execute_result"
    }
   ],
   "source": [
    "harry_df.langs.value_counts()"
   ]
  },
  {
   "cell_type": "code",
   "execution_count": 84,
   "metadata": {},
   "outputs": [],
   "source": [
    "harry_df=harry_df[harry_df['langs']=='en']"
   ]
  },
  {
   "cell_type": "code",
   "execution_count": 85,
   "metadata": {},
   "outputs": [],
   "source": [
    "harry_df.description=harry_df.description.apply(lambda text:text.lower())"
   ]
  },
  {
   "cell_type": "code",
   "execution_count": 89,
   "metadata": {},
   "outputs": [],
   "source": [
    "def remove_small_token(text):\n",
    "    filterd_tokens=[]\n",
    "    for token in word_tokenize(text):\n",
    "        if len(token)<=2:\n",
    "            small_words.append(token)\n",
    "        else:\n",
    "            filterd_tokens.append(token)\n",
    "    return filterd_tokens"
   ]
  },
  {
   "cell_type": "code",
   "execution_count": 91,
   "metadata": {},
   "outputs": [],
   "source": [
    "from gensim.parsing.preprocessing import remove_stopwords\n",
    "small_words=[]\n",
    "harry_df.description=harry_df.description.apply(remove_stopwords).apply(remove_small_token) "
   ]
  },
  {
   "cell_type": "code",
   "execution_count": 102,
   "metadata": {},
   "outputs": [],
   "source": [
    "harry_df['pos_tag']=harry_df.description.apply(nltk.tag.pos_tag)"
   ]
  },
  {
   "cell_type": "code",
   "execution_count": 100,
   "metadata": {},
   "outputs": [],
   "source": [
    "def get_wordnet_pos(tag):\n",
    "    if tag.startswith('J'):\n",
    "        return wordnet.ADJ\n",
    "    elif tag.startswith('V'):\n",
    "        return wordnet.VERB\n",
    "    elif tag.startswith('N'):\n",
    "        return wordnet.NOUN\n",
    "    elif tag.startswith('R'):\n",
    "        return wordnet.ADV\n",
    "    else:\n",
    "        return wordnet.NOUN"
   ]
  },
  {
   "cell_type": "code",
   "execution_count": 103,
   "metadata": {},
   "outputs": [],
   "source": [
    "harry_df.pos_tag=harry_df.pos_tag.apply(lambda x: [(word, get_wordnet_pos(pos_tag)) for (word, pos_tag) in x])"
   ]
  },
  {
   "cell_type": "code",
   "execution_count": 109,
   "metadata": {},
   "outputs": [],
   "source": [
    "wnl=WordNetLemmatizer()\n",
    "harry_df['lemmatized_tokens']=harry_df['pos_tag'].apply(lambda x: [wnl.lemmatize(word, tag) for word, tag in x])\n"
   ]
  },
  {
   "cell_type": "code",
   "execution_count": 110,
   "metadata": {},
   "outputs": [],
   "source": [
    "def join_lemmas(x):\n",
    "    content = \"\"\n",
    "    for item in x:\n",
    "        content = content+\" \"+item\n",
    "    return content.strip()"
   ]
  },
  {
   "cell_type": "code",
   "execution_count": 112,
   "metadata": {},
   "outputs": [],
   "source": [
    "harry_df.description=harry_df.lemmatized_tokens.apply(join_lemmas)"
   ]
  },
  {
   "cell_type": "code",
   "execution_count": 113,
   "metadata": {},
   "outputs": [
    {
     "data": {
      "text/html": [
       "<div>\n",
       "<style scoped>\n",
       "    .dataframe tbody tr th:only-of-type {\n",
       "        vertical-align: middle;\n",
       "    }\n",
       "\n",
       "    .dataframe tbody tr th {\n",
       "        vertical-align: top;\n",
       "    }\n",
       "\n",
       "    .dataframe thead th {\n",
       "        text-align: right;\n",
       "    }\n",
       "</style>\n",
       "<table border=\"1\" class=\"dataframe\">\n",
       "  <thead>\n",
       "    <tr style=\"text-align: right;\">\n",
       "      <th></th>\n",
       "      <th>book</th>\n",
       "      <th>date</th>\n",
       "      <th>rating</th>\n",
       "      <th>likes</th>\n",
       "      <th>description</th>\n",
       "      <th>stars_given</th>\n",
       "      <th>calc_stars</th>\n",
       "      <th>langs</th>\n",
       "      <th>pos_tag</th>\n",
       "      <th>lemmatized_tokens</th>\n",
       "    </tr>\n",
       "  </thead>\n",
       "  <tbody>\n",
       "    <tr>\n",
       "      <th>0</th>\n",
       "      <td>Harry Potter and the Sorcerer's Stone</td>\n",
       "      <td>2019</td>\n",
       "      <td>itwasamazing</td>\n",
       "      <td>1657</td>\n",
       "      <td>stick home get time hand want start long serie...</td>\n",
       "      <td>5.0</td>\n",
       "      <td>8285.0</td>\n",
       "      <td>en</td>\n",
       "      <td>[(stuck, v), (home, n), (got, v), (time, n), (...</td>\n",
       "      <td>[stick, home, get, time, hand, want, start, lo...</td>\n",
       "    </tr>\n",
       "    <tr>\n",
       "      <th>1</th>\n",
       "      <td>Harry Potter and the Sorcerer's Stone</td>\n",
       "      <td>2015</td>\n",
       "      <td>NaN</td>\n",
       "      <td>993</td>\n",
       "      <td>let thing promote recommend favourite trans bo...</td>\n",
       "      <td>NaN</td>\n",
       "      <td>NaN</td>\n",
       "      <td>en</td>\n",
       "      <td>[(let, v), (thing, n), (promote, v), (recommen...</td>\n",
       "      <td>[let, thing, promote, recommend, favourite, tr...</td>\n",
       "    </tr>\n",
       "    <tr>\n",
       "      <th>2</th>\n",
       "      <td>Harry Potter and the Sorcerer's Stone</td>\n",
       "      <td>2011</td>\n",
       "      <td>itwasamazing</td>\n",
       "      <td>1599</td>\n",
       "      <td>go brief say clear throati think reason wait l...</td>\n",
       "      <td>5.0</td>\n",
       "      <td>7995.0</td>\n",
       "      <td>en</td>\n",
       "      <td>[(going, v), (brief, n), (said, v), (clears, n...</td>\n",
       "      <td>[go, brief, say, clear, throati, think, reason...</td>\n",
       "    </tr>\n",
       "    <tr>\n",
       "      <th>3</th>\n",
       "      <td>Harry Potter and the Sorcerer's Stone</td>\n",
       "      <td>2009</td>\n",
       "      <td>itwasamazing</td>\n",
       "      <td>831</td>\n",
       "      <td>original review comparison sort harry potter t...</td>\n",
       "      <td>5.0</td>\n",
       "      <td>4155.0</td>\n",
       "      <td>en</td>\n",
       "      <td>[(original, a), (review, n), (comparison, n), ...</td>\n",
       "      <td>[original, review, comparison, sort, harry, po...</td>\n",
       "    </tr>\n",
       "    <tr>\n",
       "      <th>4</th>\n",
       "      <td>Harry Potter and the Sorcerer's Stone</td>\n",
       "      <td>2013</td>\n",
       "      <td>itwasamazing</td>\n",
       "      <td>911</td>\n",
       "      <td>job bookstore kid mom mall spend ton time hang...</td>\n",
       "      <td>5.0</td>\n",
       "      <td>4555.0</td>\n",
       "      <td>en</td>\n",
       "      <td>[(jobs, n), (bookstore, v), (kid, n), (mom, n)...</td>\n",
       "      <td>[job, bookstore, kid, mom, mall, spend, ton, t...</td>\n",
       "    </tr>\n",
       "  </tbody>\n",
       "</table>\n",
       "</div>"
      ],
      "text/plain": [
       "                                    book  date        rating  likes  \\\n",
       "0  Harry Potter and the Sorcerer's Stone  2019  itwasamazing   1657   \n",
       "1  Harry Potter and the Sorcerer's Stone  2015           NaN    993   \n",
       "2  Harry Potter and the Sorcerer's Stone  2011  itwasamazing   1599   \n",
       "3  Harry Potter and the Sorcerer's Stone  2009  itwasamazing    831   \n",
       "4  Harry Potter and the Sorcerer's Stone  2013  itwasamazing    911   \n",
       "\n",
       "                                         description  stars_given  calc_stars  \\\n",
       "0  stick home get time hand want start long serie...          5.0      8285.0   \n",
       "1  let thing promote recommend favourite trans bo...          NaN         NaN   \n",
       "2  go brief say clear throati think reason wait l...          5.0      7995.0   \n",
       "3  original review comparison sort harry potter t...          5.0      4155.0   \n",
       "4  job bookstore kid mom mall spend ton time hang...          5.0      4555.0   \n",
       "\n",
       "  langs                                            pos_tag  \\\n",
       "0    en  [(stuck, v), (home, n), (got, v), (time, n), (...   \n",
       "1    en  [(let, v), (thing, n), (promote, v), (recommen...   \n",
       "2    en  [(going, v), (brief, n), (said, v), (clears, n...   \n",
       "3    en  [(original, a), (review, n), (comparison, n), ...   \n",
       "4    en  [(jobs, n), (bookstore, v), (kid, n), (mom, n)...   \n",
       "\n",
       "                                   lemmatized_tokens  \n",
       "0  [stick, home, get, time, hand, want, start, lo...  \n",
       "1  [let, thing, promote, recommend, favourite, tr...  \n",
       "2  [go, brief, say, clear, throati, think, reason...  \n",
       "3  [original, review, comparison, sort, harry, po...  \n",
       "4  [job, bookstore, kid, mom, mall, spend, ton, t...  "
      ]
     },
     "execution_count": 113,
     "metadata": {},
     "output_type": "execute_result"
    }
   ],
   "source": [
    "harry_df.head()"
   ]
  },
  {
   "cell_type": "code",
   "execution_count": 228,
   "metadata": {},
   "outputs": [],
   "source": [
    "cleaned_docs=harry_df.description"
   ]
  },
  {
   "cell_type": "code",
   "execution_count": 260,
   "metadata": {},
   "outputs": [],
   "source": [
    "vectorizer = TfidfVectorizer(\n",
    "                                lowercase=True,\n",
    "                                max_features=100,\n",
    "                                max_df=0.8,\n",
    "                                min_df=5,\n",
    "                                ngram_range = (2,3),\n",
    "                                stop_words = \"english\"\n",
    "\n",
    "                            )"
   ]
  },
  {
   "cell_type": "code",
   "execution_count": 261,
   "metadata": {},
   "outputs": [],
   "source": [
    "vectors = vectorizer.fit_transform(cleaned_docs)\n"
   ]
  },
  {
   "cell_type": "code",
   "execution_count": 259,
   "metadata": {},
   "outputs": [
    {
     "name": "stdout",
     "output_type": "stream",
     "text": [
      "  (0, 61)\t0.5155584162433091\n",
      "  (0, 32)\t0.25356507321479854\n",
      "  (0, 12)\t0.4204350321933192\n",
      "  (0, 60)\t0.5071301464295971\n",
      "  (0, 82)\t0.4750793451982507\n",
      "  (0, 30)\t0.10127826587755252\n"
     ]
    }
   ],
   "source": [
    "print(vectors[2])"
   ]
  },
  {
   "cell_type": "code",
   "execution_count": 262,
   "metadata": {},
   "outputs": [
    {
     "name": "stdout",
     "output_type": "stream",
     "text": [
      "['best friend', 'binge mode', 'binge mode chapter', 'book book', 'book harry', 'book harry potter', 'book like', 'book love', 'book read', 'book review', 'book series', 'book time', 'chamber secret', 'chapter warn', 'contain adult', 'curse child', 'death eater', 'deathly hallow', 'deathly hallows', 'end book', 'entire series', 'favorite book', 'favorite character', 'feel like', 'fell love', 'felt like', 'fred george', 'halfblood prince', 'harry ginny', 'harry hermione', 'harry potter', 'harry potter book', 'harry potter chamber', 'harry potter curse', 'harry potter deathly', 'harry potter goblet', 'harry potter order', 'harry potter philosopher', 'harry potter prisoner', 'harry potter series', 'harry ron', 'harry ron hermione', 'hermione ron', 'hide spoiler', 'know harry', 'like book', 'like harry', 'look forward', 'lord voldemort', 'love book', 'love harry', 'love harry potter', 'magical world', 'mode chapter', 'mode chapter warn', 'order phoenix', 'philosopher stone', 'podcast binge', 'podcast binge mode', 'potter book', 'potter chamber', 'potter chamber secret', 'potter curse', 'potter curse child', 'potter deathly', 'potter deathly hallow', 'potter goblet', 'potter halfblood', 'potter halfblood prince', 'potter order', 'potter order phoenix', 'potter philosopher', 'potter philosopher stone', 'potter prisoner', 'potter prisoner azkaban', 'potter series', 'previous book', 'prisoner azkaban', 'read book', 'read harry', 'read harry potter', 'read like', 'read series', 'reread book', 'review book', 'ron hermione', 'say harry', 'series harry', 'sirius black', 'sorcerer stone', 'time read', 'time turner', 'triwizard tournament', 'view spoiler', 'watch movie', 'wizarding world', 'write style', 'year ago', 'year later', 'year old']\n"
     ]
    }
   ],
   "source": [
    "feature_names = vectorizer.get_feature_names()\n",
    "# import numpy as np\n",
    "# print((feature_names=='stick'))\n",
    "print(feature_names)"
   ]
  },
  {
   "cell_type": "code",
   "execution_count": 263,
   "metadata": {},
   "outputs": [],
   "source": [
    "dense = vectors.todense()"
   ]
  },
  {
   "cell_type": "code",
   "execution_count": 268,
   "metadata": {},
   "outputs": [
    {
     "name": "stdout",
     "output_type": "stream",
     "text": [
      "(1, 100)\n"
     ]
    }
   ],
   "source": [
    "print ((dense[0].shape))"
   ]
  },
  {
   "cell_type": "code",
   "execution_count": 198,
   "metadata": {},
   "outputs": [
    {
     "name": "stdout",
     "output_type": "stream",
     "text": [
      "[[0.         0.         0.         0.         0.29483449 0.35044663\n",
      "  0.         0.         0.33873941 0.         0.         0.\n",
      "  0.         0.         0.         0.         0.         0.\n",
      "  0.         0.         0.         0.         0.         0.\n",
      "  0.         0.         0.         0.         0.         0.\n",
      "  0.29074511 0.28599654 0.         0.         0.         0.\n",
      "  0.         0.         0.         0.         0.         0.\n",
      "  0.         0.         0.         0.         0.         0.\n",
      "  0.         0.29351606 0.31081933 0.36693391 0.         0.\n",
      "  0.         0.         0.33657452 0.         0.         0.2801882\n",
      "  0.         0.         0.         0.         0.         0.\n",
      "  0.         0.         0.         0.         0.         0.\n",
      "  0.         0.         0.         0.         0.         0.\n",
      "  0.         0.         0.         0.         0.         0.\n",
      "  0.         0.         0.         0.         0.         0.\n",
      "  0.         0.         0.         0.         0.         0.\n",
      "  0.         0.         0.         0.        ]]\n"
     ]
    }
   ],
   "source": [
    "print(dense[0])"
   ]
  },
  {
   "cell_type": "code",
   "execution_count": 271,
   "metadata": {},
   "outputs": [
    {
     "name": "stdout",
     "output_type": "stream",
     "text": [
      "100\n"
     ]
    }
   ],
   "source": [
    "denselist = dense.tolist()\n",
    "print(len(denselist[0]))"
   ]
  },
  {
   "cell_type": "code",
   "execution_count": 276,
   "metadata": {},
   "outputs": [
    {
     "name": "stdout",
     "output_type": "stream",
     "text": [
      "[0.0, 0.0, 0.0, 0.0, 0.2948344852452704, 0.35044663230598067, 0.0, 0.0, 0.33873941295654947, 0.0, 0.0, 0.0, 0.0, 0.0, 0.0, 0.0, 0.0, 0.0, 0.0, 0.0, 0.0, 0.0, 0.0, 0.0, 0.0, 0.0, 0.0, 0.0, 0.0, 0.0, 0.29074510758319844, 0.2859965430889064, 0.0, 0.0, 0.0, 0.0, 0.0, 0.0, 0.0, 0.0, 0.0, 0.0, 0.0, 0.0, 0.0, 0.0, 0.0, 0.0, 0.0, 0.29351605573295664, 0.3108193290753543, 0.36693390679689775, 0.0, 0.0, 0.0, 0.0, 0.3365745150533359, 0.0, 0.0, 0.2801882003984592, 0.0, 0.0, 0.0, 0.0, 0.0, 0.0, 0.0, 0.0, 0.0, 0.0, 0.0, 0.0, 0.0, 0.0, 0.0, 0.0, 0.0, 0.0, 0.0, 0.0, 0.0, 0.0, 0.0, 0.0, 0.0, 0.0, 0.0, 0.0, 0.0, 0.0, 0.0, 0.0, 0.0, 0.0, 0.0, 0.0, 0.0, 0.0, 0.0, 0.0]\n",
      "[['book harry', 'book harry potter', 'book read', 'harry potter', 'harry potter book', 'love book', 'love harry', 'love harry potter', 'philosopher stone', 'potter book']]\n"
     ]
    }
   ],
   "source": [
    "all_keywords = []\n",
    "for description in denselist:\n",
    "    print((description))\n",
    "    x=0\n",
    "    keywords = []\n",
    "    for word in description:\n",
    "        if word > 0:\n",
    "            keywords.append(feature_names[x])\n",
    "        x=x+1\n",
    "    all_keywords.append(keywords)\n",
    "    print(all_keywords)\n",
    "    break"
   ]
  },
  {
   "cell_type": "code",
   "execution_count": 277,
   "metadata": {},
   "outputs": [
    {
     "name": "stdout",
     "output_type": "stream",
     "text": [
      "Only Keywords Text:\n",
      "['book harry', 'book harry potter', 'book read', 'harry potter', 'harry potter book', 'love book', 'love harry', 'love harry potter', 'philosopher stone', 'potter book']\n"
     ]
    }
   ],
   "source": [
    "# print (\"Original Text:\")\n",
    "# print (descriptions[0]+\"\\n\")\n",
    "\n",
    "# print (\"Cleaned Text:\")\n",
    "# print (cleaned_docs[0]+\"\\n\")\n",
    "\n",
    "print (\"Only Keywords Text:\")\n",
    "print (all_keywords[0])\n"
   ]
  },
  {
   "cell_type": "code",
   "execution_count": 278,
   "metadata": {},
   "outputs": [],
   "source": [
    "true_k = 3\n",
    "\n",
    "model = KMeans(n_clusters=true_k, init=\"k-means++\", max_iter=100, n_init=1)"
   ]
  },
  {
   "cell_type": "code",
   "execution_count": 279,
   "metadata": {},
   "outputs": [],
   "source": [
    "model.fit(vectors)\n",
    "\n",
    "order_centroids = model.cluster_centers_.argsort()[:, ::-1]\n",
    "terms = vectorizer.get_feature_names()"
   ]
  },
  {
   "cell_type": "code",
   "execution_count": 290,
   "metadata": {},
   "outputs": [
    {
     "data": {
      "text/plain": [
       "array([78, 30, 90, 23, 10, 49, 55, 43, 40, 45, 95, 48, 50,  4, 85, 97, 27,\n",
       "       88, 12, 25, 19,  8, 96, 84, 16, 92,  7, 83, 93, 86,  3, 21, 77, 26,\n",
       "       82, 81, 22, 76,  0, 91, 41, 47, 99, 42,  6, 94, 51, 11, 29, 20, 46,\n",
       "        9, 15, 52, 44, 24, 98, 18, 17, 28,  1, 70, 36, 69, 35, 66, 59, 89,\n",
       "        5, 68, 67, 56, 58, 57, 31,  2, 53, 13, 54, 79, 80, 60, 14, 39, 75,\n",
       "       87, 65, 64, 34, 32, 74, 38, 73, 63, 62, 33, 71, 37, 72, 61],\n",
       "      dtype=int64)"
      ]
     },
     "execution_count": 290,
     "metadata": {},
     "output_type": "execute_result"
    }
   ],
   "source": [
    "model.cluster_centers_[0].argsort()[::-1]"
   ]
  },
  {
   "cell_type": "code",
   "execution_count": 291,
   "metadata": {},
   "outputs": [
    {
     "data": {
      "text/plain": [
       "array([1, 0, 0, 1, 0, 1, 0, 0, 0, 1, 1, 1, 0, 1, 0, 0, 0, 0, 1, 0, 0, 2,\n",
       "       1, 1, 1, 0, 0, 0, 0, 0, 1, 1, 0, 2, 0, 0, 0, 0, 1, 1, 0, 1, 0, 1,\n",
       "       0, 0, 0, 1, 1, 0, 0, 0, 0, 1, 2, 1, 1, 0, 2, 1, 0, 0, 1, 1, 1, 0,\n",
       "       0, 1, 0, 1, 0, 0, 0, 0, 0, 1, 1, 0, 0, 1, 2, 0, 1, 1, 0, 1, 0, 0,\n",
       "       2, 2, 2, 0, 0, 1, 0, 0, 0, 0, 0, 2, 0, 1, 2, 1, 1, 0, 0, 1, 0, 0,\n",
       "       0, 1, 0, 0, 0, 2, 0, 0, 1, 2, 2, 1, 0, 0, 2, 0, 1, 2, 0, 0, 0, 0,\n",
       "       2, 1, 1, 0, 0, 0, 2, 0, 0, 1, 0, 0, 0, 1, 0, 1, 1, 0, 0, 0, 0, 0,\n",
       "       1, 2, 0, 0, 0, 0, 2, 0, 0, 0, 0, 0, 0, 1, 0, 1, 0, 1, 0, 0, 2, 0,\n",
       "       0, 0, 0, 0, 0, 0, 0, 0, 0, 0, 1, 0, 0, 0, 0, 0, 0, 1, 0, 0, 0, 0,\n",
       "       0, 0, 2, 2, 0, 1, 0, 1, 0, 0, 0, 1, 0, 0, 1, 0, 1, 0, 0, 0, 1, 1,\n",
       "       0, 0, 0, 1, 0, 1, 0, 0, 1, 0, 1, 0, 0, 1, 0, 1, 1, 2, 2, 0, 0, 1,\n",
       "       0, 1, 1, 0, 1, 1, 0, 0, 0, 1, 1, 0, 1, 0, 1, 0, 1, 0, 0, 0, 0, 0,\n",
       "       0, 0, 0, 0, 0, 0, 0, 0, 0, 0, 0, 0, 1, 0, 0, 0, 0, 0, 0, 0, 1, 0,\n",
       "       1, 0, 0, 1, 0, 0, 0, 0, 0, 0, 0, 0, 2, 2, 0, 0, 1, 0, 2, 0, 0, 0,\n",
       "       0, 1, 0, 0, 0, 0, 0, 0, 1, 2, 0, 0, 0, 1, 1, 1, 0, 0, 0, 1, 0, 1,\n",
       "       0, 1, 0, 0, 0, 0, 0, 0, 0, 0, 0, 0, 0, 2, 0, 0, 0, 1, 1, 1, 0, 1,\n",
       "       0, 0, 0, 1, 0, 0, 0, 0, 1, 1, 0, 0, 0, 0, 0, 0, 0, 1, 0, 0, 1, 0,\n",
       "       0, 1, 1, 0, 1, 0, 0, 0, 0, 1, 0, 0, 2, 0, 0, 2, 0, 0, 0, 0, 0, 0,\n",
       "       0, 1, 1, 2, 0, 2, 1, 0, 1, 0, 1, 0, 2, 0, 0, 0, 0, 1, 0, 2, 1, 0,\n",
       "       1, 1, 0, 0, 0, 0, 0, 0, 0, 0, 0, 1, 0, 0, 0, 1, 1, 0, 0, 1, 1, 1,\n",
       "       0, 0, 0, 0, 0, 0, 0, 1, 1, 1, 0, 1, 0, 0, 2, 1, 0, 0, 0, 0, 1, 0,\n",
       "       0, 1, 0, 1, 0, 1, 0, 0, 1, 1, 0, 0, 0, 0, 1, 0, 1, 0, 0, 1, 0, 2,\n",
       "       0, 0, 0, 0, 1, 1, 0, 1, 0, 1, 1, 1, 0, 1, 0, 0, 1, 1, 0, 0, 0, 2,\n",
       "       0, 1, 1, 1, 0, 1, 1, 0, 0, 0, 0, 0, 0, 0, 0, 1, 1, 1, 2, 0, 0, 0,\n",
       "       0, 0, 0, 0, 0, 0, 0, 1, 1, 0, 0, 0, 0, 0, 1, 2, 0, 0, 0, 0, 0, 0,\n",
       "       0, 1, 0, 0, 0, 0, 0, 0, 1, 0, 0, 1, 0, 0, 0, 2, 0, 0, 1, 0, 1, 0,\n",
       "       0, 1, 0, 0, 0, 0, 0, 1, 1, 1, 0, 0, 1, 0, 0, 0, 1, 0, 0, 1, 0, 0,\n",
       "       0, 1, 0, 0, 0, 0, 1, 1, 0, 0, 0, 0, 0, 0, 0, 1, 0, 0, 0, 0, 0, 0,\n",
       "       0, 0, 0, 0, 0, 0, 0, 0, 1, 0, 1, 0, 0, 0, 0, 0, 1, 0, 0, 0, 0, 0,\n",
       "       0, 0, 1, 0, 0, 0, 0, 2, 0, 0, 0, 0, 0, 0, 0, 0, 1, 0, 0, 0, 1, 0,\n",
       "       0, 1, 0, 1, 0, 0, 0, 2, 2, 1, 0, 0, 0, 0, 0, 2, 1, 0, 0, 0, 0, 1,\n",
       "       0, 2, 0, 0, 0, 0, 0, 0, 0, 0, 1, 0, 0, 0, 1, 0, 1, 0])"
      ]
     },
     "execution_count": 291,
     "metadata": {},
     "output_type": "execute_result"
    }
   ],
   "source": [
    "model.labels_"
   ]
  },
  {
   "cell_type": "code",
   "execution_count": 172,
   "metadata": {},
   "outputs": [
    {
     "name": "stdout",
     "output_type": "stream",
     "text": [
      "Cluster 0\n",
      "read book\n",
      "time read\n",
      "harry potter\n",
      "love book\n",
      "like book\n",
      "book time\n",
      "hide spoiler\n",
      "favorite character\n",
      "year ago\n",
      "sirius black\n",
      "\n",
      "Cluster 1\n",
      "harry potter\n",
      "curse child\n",
      "harry potter curse\n",
      "potter curse\n",
      "potter curse child\n",
      "deathly hallow\n",
      "feel like\n",
      "potter deathly hallow\n",
      "harry potter deathly\n",
      "potter deathly\n",
      "\n",
      "Cluster 2\n",
      "harry potter\n",
      "book series\n",
      "potter book\n",
      "harry potter book\n",
      "feel like\n",
      "potter series\n",
      "harry potter series\n",
      "order phoenix\n",
      "love book\n",
      "halfblood prince\n",
      "\n"
     ]
    }
   ],
   "source": [
    "i = 0\n",
    "for cluster in order_centroids:\n",
    "    print (f\"Cluster {i}\")\n",
    "    for keyword in cluster[0:10]:\n",
    "        print (terms[keyword])\n",
    "    print (\"\")\n",
    "    i=i+1"
   ]
  },
  {
   "cell_type": "code",
   "execution_count": 155,
   "metadata": {},
   "outputs": [],
   "source": [
    "\n",
    "import matplotlib.pyplot as plt\n",
    "from sklearn.decomposition import PCA"
   ]
  },
  {
   "cell_type": "code",
   "execution_count": 156,
   "metadata": {},
   "outputs": [],
   "source": [
    "kmean_indices = model.fit_predict(vectors)\n",
    "\n",
    "pca = PCA(n_components=2)\n",
    "scatter_plot_points = pca.fit_transform(vectors.toarray())"
   ]
  },
  {
   "cell_type": "code",
   "execution_count": 157,
   "metadata": {},
   "outputs": [],
   "source": [
    "colors = [\"r\", \"b\", \"m\", \"y\", \"c\"]\n",
    "\n",
    "x_axis = [o[0] for o in scatter_plot_points]\n",
    "y_axis = [o[1] for o in scatter_plot_points]"
   ]
  },
  {
   "cell_type": "code",
   "execution_count": 158,
   "metadata": {},
   "outputs": [
    {
     "data": {
      "text/plain": [
       "<matplotlib.collections.PathCollection at 0x28b16df16d0>"
      ]
     },
     "execution_count": 158,
     "metadata": {},
     "output_type": "execute_result"
    },
    {
     "data": {
      "image/png": "[encoded data removed]",
      "text/plain": [
       "<Figure size 720x720 with 1 Axes>"
      ]
     },
     "metadata": {
      "needs_background": "light"
     },
     "output_type": "display_data"
    }
   ],
   "source": [
    "fig, ax = plt.subplots(figsize=(10, 10))\n",
    "ax.scatter(x_axis, y_axis, c=[colors[d] for d in kmean_indices])"
   ]
  },
  {
   "cell_type": "code",
   "execution_count": 2,
   "metadata": {},
   "outputs": [],
   "source": [
    "# fig, ax = plt.subplots(figsize=(50, 50))\n",
    "# ax.scatter(x_axis, y_axis, c=[colors[d] for d in kmean_indices])\n",
    "# for i, txt in enumerate(names):\n",
    "#     ax.annotate(txt[0:5], (x_axis[i], y_axis[i]))"
   ]
  },
  {
   "cell_type": "code",
   "execution_count": null,
   "metadata": {},
   "outputs": [],
   "source": []
  }
 ],
 "metadata": {
  "kernelspec": {
   "display_name": "Python 3",
   "language": "python",
   "name": "python3"
  },
  "language_info": {
   "codemirror_mode": {
    "name": "ipython",
    "version": 3
   },
   "file_extension": ".py",
   "mimetype": "text/x-python",
   "name": "python",
   "nbconvert_exporter": "python",
   "pygments_lexer": "ipython3",
   "version": "3.8.5"
  }
 },
 "nbformat": 4,
 "nbformat_minor": 4
}
